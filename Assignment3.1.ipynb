{
 "cells": [
  {
   "cell_type": "markdown",
   "metadata": {},
   "source": [
    "# Assignment 3.1"
   ]
  },
  {
   "cell_type": "markdown",
   "metadata": {},
   "source": [
    "## Reading S3 bucket into SageMaker Studio"
   ]
  },
  {
   "cell_type": "code",
   "execution_count": 90,
   "metadata": {},
   "outputs": [],
   "source": [
    "import boto3\n",
    "import pandas as pd\n",
    "import matplotlib\n",
    "import matplotlib.pyplot as plt\n",
    "from collections import Counter\n",
    "\n",
    "s3_client = boto3.client(\"s3\")\n",
    "\n",
    "BUCKET='ads508projectbucket'\n",
    "\n",
    "# For Country_and_Subscriber_df\n",
    "Country_and_Subscriber_Key='Aggregated_Metrics_By_Country_And_Subscriber_Status.csv'\n",
    "Country_and_Subscriber_response = s3_client.get_object(Bucket=BUCKET, Key=Country_and_Subscriber_Key)\n",
    "Country_and_Subscriber_df = pd.read_csv(Country_and_Subscriber_response.get(\"Body\"))\n",
    "\n",
    "# For Video_df\n",
    "Video_Key='Aggregated_Metrics_By_Video.csv'\n",
    "Video_response = s3_client.get_object(Bucket=BUCKET, Key=Video_Key)\n",
    "Video_df = pd.read_csv(Video_response.get(\"Body\"))\n",
    "\n",
    "# For Comments_df\n",
    "Comments_Key='All_Comments_Final.csv'\n",
    "Comments_response = s3_client.get_object(Bucket=BUCKET, Key=Comments_Key)\n",
    "Comments_df = pd.read_csv(Comments_response.get(\"Body\"))\n",
    "\n",
    "# For Performance_df\n",
    "Performance_Key='Video_Performance_Over_Time.csv'\n",
    "Performance_response = s3_client.get_object(Bucket=BUCKET, Key=Performance_Key)\n",
    "Performance_df = pd.read_csv(Performance_response.get(\"Body\"))"
   ]
  },
  {
   "cell_type": "markdown",
   "metadata": {},
   "source": [
    "## Exploring Data"
   ]
  },
  {
   "cell_type": "markdown",
   "metadata": {},
   "source": [
    "#### Country_and_Subscriber_df"
   ]
  },
  {
   "cell_type": "code",
   "execution_count": 91,
   "metadata": {},
   "outputs": [
    {
     "data": {
      "text/html": [
       "<div>\n",
       "<style scoped>\n",
       "    .dataframe tbody tr th:only-of-type {\n",
       "        vertical-align: middle;\n",
       "    }\n",
       "\n",
       "    .dataframe tbody tr th {\n",
       "        vertical-align: top;\n",
       "    }\n",
       "\n",
       "    .dataframe thead th {\n",
       "        text-align: right;\n",
       "    }\n",
       "</style>\n",
       "<table border=\"1\" class=\"dataframe\">\n",
       "  <thead>\n",
       "    <tr style=\"text-align: right;\">\n",
       "      <th></th>\n",
       "      <th>Video Title</th>\n",
       "      <th>External Video ID</th>\n",
       "      <th>Video Length</th>\n",
       "      <th>Thumbnail link</th>\n",
       "      <th>Country Code</th>\n",
       "      <th>Is Subscribed</th>\n",
       "      <th>Views</th>\n",
       "      <th>Video Likes Added</th>\n",
       "      <th>Video Dislikes Added</th>\n",
       "      <th>Video Likes Removed</th>\n",
       "      <th>User Subscriptions Added</th>\n",
       "      <th>User Subscriptions Removed</th>\n",
       "      <th>Average View Percentage</th>\n",
       "      <th>Average Watch Time</th>\n",
       "      <th>User Comments Added</th>\n",
       "    </tr>\n",
       "  </thead>\n",
       "  <tbody>\n",
       "    <tr>\n",
       "      <th>0</th>\n",
       "      <td>🌶 Hot Topics in Tech: Data Science Explained #...</td>\n",
       "      <td>OtqQYqRNDGI</td>\n",
       "      <td>59</td>\n",
       "      <td>https://i.ytimg.com/vi/OtqQYqRNDGI/hqdefault.jpg</td>\n",
       "      <td>HK</td>\n",
       "      <td>True</td>\n",
       "      <td>23</td>\n",
       "      <td>1</td>\n",
       "      <td>0</td>\n",
       "      <td>0</td>\n",
       "      <td>2</td>\n",
       "      <td>0</td>\n",
       "      <td>0.671870</td>\n",
       "      <td>39.640348</td>\n",
       "      <td>0</td>\n",
       "    </tr>\n",
       "    <tr>\n",
       "      <th>1</th>\n",
       "      <td>🌶 Hot Topics in Tech: Data Science Explained #...</td>\n",
       "      <td>OtqQYqRNDGI</td>\n",
       "      <td>59</td>\n",
       "      <td>https://i.ytimg.com/vi/OtqQYqRNDGI/hqdefault.jpg</td>\n",
       "      <td>ME</td>\n",
       "      <td>True</td>\n",
       "      <td>3</td>\n",
       "      <td>0</td>\n",
       "      <td>0</td>\n",
       "      <td>0</td>\n",
       "      <td>0</td>\n",
       "      <td>0</td>\n",
       "      <td>0.498870</td>\n",
       "      <td>29.433333</td>\n",
       "      <td>0</td>\n",
       "    </tr>\n",
       "    <tr>\n",
       "      <th>2</th>\n",
       "      <td>🌶 Hot Topics in Tech: Data Science Explained #...</td>\n",
       "      <td>OtqQYqRNDGI</td>\n",
       "      <td>59</td>\n",
       "      <td>https://i.ytimg.com/vi/OtqQYqRNDGI/hqdefault.jpg</td>\n",
       "      <td>RW</td>\n",
       "      <td>True</td>\n",
       "      <td>2</td>\n",
       "      <td>0</td>\n",
       "      <td>0</td>\n",
       "      <td>0</td>\n",
       "      <td>0</td>\n",
       "      <td>0</td>\n",
       "      <td>0.681780</td>\n",
       "      <td>40.225000</td>\n",
       "      <td>0</td>\n",
       "    </tr>\n",
       "    <tr>\n",
       "      <th>3</th>\n",
       "      <td>🌶 Hot Topics in Tech: Data Science Explained #...</td>\n",
       "      <td>OtqQYqRNDGI</td>\n",
       "      <td>59</td>\n",
       "      <td>https://i.ytimg.com/vi/OtqQYqRNDGI/hqdefault.jpg</td>\n",
       "      <td>US</td>\n",
       "      <td>True</td>\n",
       "      <td>979</td>\n",
       "      <td>81</td>\n",
       "      <td>6</td>\n",
       "      <td>8</td>\n",
       "      <td>16</td>\n",
       "      <td>4</td>\n",
       "      <td>0.694854</td>\n",
       "      <td>40.996389</td>\n",
       "      <td>0</td>\n",
       "    </tr>\n",
       "    <tr>\n",
       "      <th>4</th>\n",
       "      <td>🌶 Hot Topics in Tech: Data Science Explained #...</td>\n",
       "      <td>OtqQYqRNDGI</td>\n",
       "      <td>59</td>\n",
       "      <td>https://i.ytimg.com/vi/OtqQYqRNDGI/hqdefault.jpg</td>\n",
       "      <td>DE</td>\n",
       "      <td>False</td>\n",
       "      <td>75</td>\n",
       "      <td>3</td>\n",
       "      <td>0</td>\n",
       "      <td>1</td>\n",
       "      <td>0</td>\n",
       "      <td>0</td>\n",
       "      <td>0.661515</td>\n",
       "      <td>39.029373</td>\n",
       "      <td>0</td>\n",
       "    </tr>\n",
       "  </tbody>\n",
       "</table>\n",
       "</div>"
      ],
      "text/plain": [
       "                                         Video Title External Video ID  \\\n",
       "0  🌶 Hot Topics in Tech: Data Science Explained #...       OtqQYqRNDGI   \n",
       "1  🌶 Hot Topics in Tech: Data Science Explained #...       OtqQYqRNDGI   \n",
       "2  🌶 Hot Topics in Tech: Data Science Explained #...       OtqQYqRNDGI   \n",
       "3  🌶 Hot Topics in Tech: Data Science Explained #...       OtqQYqRNDGI   \n",
       "4  🌶 Hot Topics in Tech: Data Science Explained #...       OtqQYqRNDGI   \n",
       "\n",
       "   Video Length                                    Thumbnail link  \\\n",
       "0            59  https://i.ytimg.com/vi/OtqQYqRNDGI/hqdefault.jpg   \n",
       "1            59  https://i.ytimg.com/vi/OtqQYqRNDGI/hqdefault.jpg   \n",
       "2            59  https://i.ytimg.com/vi/OtqQYqRNDGI/hqdefault.jpg   \n",
       "3            59  https://i.ytimg.com/vi/OtqQYqRNDGI/hqdefault.jpg   \n",
       "4            59  https://i.ytimg.com/vi/OtqQYqRNDGI/hqdefault.jpg   \n",
       "\n",
       "  Country Code  Is Subscribed  Views  Video Likes Added  Video Dislikes Added  \\\n",
       "0           HK           True     23                  1                     0   \n",
       "1           ME           True      3                  0                     0   \n",
       "2           RW           True      2                  0                     0   \n",
       "3           US           True    979                 81                     6   \n",
       "4           DE          False     75                  3                     0   \n",
       "\n",
       "   Video Likes Removed  User Subscriptions Added  User Subscriptions Removed  \\\n",
       "0                    0                         2                           0   \n",
       "1                    0                         0                           0   \n",
       "2                    0                         0                           0   \n",
       "3                    8                        16                           4   \n",
       "4                    1                         0                           0   \n",
       "\n",
       "   Average View Percentage  Average Watch Time  User Comments Added  \n",
       "0                 0.671870           39.640348                    0  \n",
       "1                 0.498870           29.433333                    0  \n",
       "2                 0.681780           40.225000                    0  \n",
       "3                 0.694854           40.996389                    0  \n",
       "4                 0.661515           39.029373                    0  "
      ]
     },
     "execution_count": 91,
     "metadata": {},
     "output_type": "execute_result"
    }
   ],
   "source": [
    "Country_and_Subscriber_df.head()"
   ]
  },
  {
   "cell_type": "markdown",
   "metadata": {},
   "source": [
    "Already, we can see multiple variables that can be removed prior to building a model. 'Thumbnail link' can be removed, but we might want to include 'Video Title' to see if certain key phrases can increase video views. 'External Video ID' is present in each data frame, so this will be kept to join the data frames together in the future prior to modeling. Once this is accomplished, \"External Video ID' will be removed to stop it from hindering model performance. "
   ]
  },
  {
   "cell_type": "code",
   "execution_count": 92,
   "metadata": {},
   "outputs": [
    {
     "data": {
      "text/plain": [
       "Video Title                    object\n",
       "External Video ID              object\n",
       "Video Length                    int64\n",
       "Thumbnail link                 object\n",
       "Country Code                   object\n",
       "Is Subscribed                    bool\n",
       "Views                           int64\n",
       "Video Likes Added               int64\n",
       "Video Dislikes Added            int64\n",
       "Video Likes Removed             int64\n",
       "User Subscriptions Added        int64\n",
       "User Subscriptions Removed      int64\n",
       "Average View Percentage       float64\n",
       "Average Watch Time            float64\n",
       "User Comments Added             int64\n",
       "dtype: object"
      ]
     },
     "execution_count": 92,
     "metadata": {},
     "output_type": "execute_result"
    }
   ],
   "source": [
    "Country_and_Subscriber_df.dtypes"
   ]
  },
  {
   "cell_type": "markdown",
   "metadata": {},
   "source": [
    "Here are the data types of each feature. Most of the data types are int, with only 1 boolean and 2 floats. The most important string data type in our data set will either be 'Country Code' or 'Video Title' depending on if we can extract key words from the title or not."
   ]
  },
  {
   "cell_type": "code",
   "execution_count": 93,
   "metadata": {},
   "outputs": [
    {
     "data": {
      "text/plain": [
       "<function matplotlib.pyplot.show(*args, **kw)>"
      ]
     },
     "execution_count": 93,
     "metadata": {},
     "output_type": "execute_result"
    },
    {
     "data": {
      "image/png": "[encoded data removed]",
      "text/plain": [
       "<Figure size 432x288 with 1 Axes>"
      ]
     },
     "metadata": {
      "needs_background": "light"
     },
     "output_type": "display_data"
    }
   ],
   "source": [
    "# Creating plot of views by country\n",
    "grouped_country = Country_and_Subscriber_df.groupby(by = 'Country Code', as_index = False).sum()\n",
    "grouped_country_sort = grouped_country.sort_values(by = 'Views', ascending = False)\n",
    "xAxis = grouped_country_sort.loc[:,'Country Code'][:9]\n",
    "yAxis = grouped_country_sort.loc[:,'Views'][:9]\n",
    "plt.barh(xAxis, yAxis)\n",
    "plt.title(\"Top 10 Countries by Views\")\n",
    "plt.xlabel('Views')\n",
    "plt.ylabel('Countries')\n",
    "plt.show"
   ]
  },
  {
   "cell_type": "markdown",
   "metadata": {},
   "source": [
    "From this chart, we can see most of the data will come from these top 10 countries. This can introduce bias to our data set due to views mostly coming from a few countires (out of the 234 countires that view these videos). This will be an important aspect to consider going forward due to our model most likely giving insights that will reach American and Indian audiences more so than other countires. "
   ]
  },
  {
   "cell_type": "code",
   "execution_count": 94,
   "metadata": {},
   "outputs": [
    {
     "data": {
      "text/plain": [
       "<function matplotlib.pyplot.show(*args, **kw)>"
      ]
     },
     "execution_count": 94,
     "metadata": {},
     "output_type": "execute_result"
    },
    {
     "data": {
      "image/png": "[encoded data removed]",
      "text/plain": [
       "<Figure size 432x288 with 1 Axes>"
      ]
     },
     "metadata": {
      "needs_background": "light"
     },
     "output_type": "display_data"
    }
   ],
   "source": [
    "# Creating plot of average watch time by country\n",
    "grouped_country = Country_and_Subscriber_df.groupby(by = 'Country Code', as_index = False).mean()\n",
    "grouped_country_sort = grouped_country.sort_values(by = 'Average Watch Time', ascending = False)\n",
    "xAxis = grouped_country_sort.loc[:,'Country Code'][:9]\n",
    "yAxis = grouped_country_sort.loc[:,'Average Watch Time'][:9]\n",
    "plt.barh(xAxis, yAxis)\n",
    "plt.title(\"Top 10 Countries by Average Watch Time\")\n",
    "plt.xlabel('Average Watch Time (s)')\n",
    "plt.ylabel('Countries')\n",
    "plt.show"
   ]
  },
  {
   "cell_type": "markdown",
   "metadata": {},
   "source": [
    "None of the countries with the most views appeared on this list, indicating that average watch time by country can be influenced by a smaller number of people watching. The less viewers in a country, the higher the variance."
   ]
  },
  {
   "cell_type": "code",
   "execution_count": 95,
   "metadata": {},
   "outputs": [
    {
     "name": "stdout",
     "output_type": "stream",
     "text": [
      "[('Data', 154), ('Science', 116), ('-', 59), ('to', 39), ('a', 38), ('Your', 33), ('Projects', 27), ('in', 23), ('Episode', 23), ('for', 22)]\n"
     ]
    }
   ],
   "source": [
    "# Making 'Video Title' into 1 long string to find the 10 most common words\n",
    "data_set = ''.join(Country_and_Subscriber_df['Video Title'].unique().tolist())\n",
    "\n",
    "# split() returns list of all the words in the string\n",
    "split_it = data_set.split()\n",
    "\n",
    "# Pass the split_it list to instance of Counter class.\n",
    "Counters_found = Counter(split_it)\n",
    "#print(Counters)\n",
    "\n",
    "# most_common() produces k frequently encountered\n",
    "# input values and their respective counts.\n",
    "most_occur = Counters_found.most_common(10)\n",
    "print(most_occur)"
   ]
  },
  {
   "cell_type": "markdown",
   "metadata": {},
   "source": [
    "The 3 most common words that are not a dash, article, or pronoun are 'Data,' 'Science,' and 'Projects.' In the future, we can create boolean features of these words to indicate if they appear in the title or not and see how well they do at helping predict views and likes."
   ]
  },
  {
   "cell_type": "code",
   "execution_count": 96,
   "metadata": {},
   "outputs": [
    {
     "data": {
      "text/plain": [
       "Text(0.5, 1.0, 'Comparison of Viewers')"
      ]
     },
     "execution_count": 96,
     "metadata": {},
     "output_type": "execute_result"
    },
    {
     "data": {
      "image/png": "[encoded data removed]",
      "text/plain": [
       "<Figure size 504x504 with 1 Axes>"
      ]
     },
     "metadata": {
      "needs_background": "light"
     },
     "output_type": "display_data"
    }
   ],
   "source": [
    "heads = {\n",
    "    'weight': 'bold',\n",
    "    'size' : 20,\n",
    "}\n",
    "\n",
    "view_subs = Country_and_Subscriber_df.loc[Country_and_Subscriber_df['Is Subscribed'] == True].drop('Is Subscribed', axis= 1)\n",
    "view_not_subs = Country_and_Subscriber_df.loc[Country_and_Subscriber_df['Is Subscribed'] == False].drop('Is Subscribed', axis= 1)\n",
    "\n",
    "plt.figure(figsize= (7, 7))\n",
    "plt.bar('Views From Subscribers', view_subs['Views'].sum(), width= 0.8)\n",
    "plt.bar('Views From Others', view_not_subs['Views'].sum(), width= 0.8)\n",
    "plt.ylabel('# of Views')\n",
    "plt.title('Comparison of Viewers', fontdict= heads)"
   ]
  },
  {
   "cell_type": "markdown",
   "metadata": {},
   "source": [
    "This chart gives a breakdown of who currently watches this YouTubers videos. Information like this is helpful in seeing how he can better persuade his nonsubscriber audience to subscribe. Those who are not subscribed are more likely to not comment or like videos and are also less likely to see new videos he releases."
   ]
  },
  {
   "cell_type": "markdown",
   "metadata": {},
   "source": [
    "#### Video_df"
   ]
  },
  {
   "cell_type": "code",
   "execution_count": 97,
   "metadata": {},
   "outputs": [
    {
     "data": {
      "text/html": [
       "<div>\n",
       "<style scoped>\n",
       "    .dataframe tbody tr th:only-of-type {\n",
       "        vertical-align: middle;\n",
       "    }\n",
       "\n",
       "    .dataframe tbody tr th {\n",
       "        vertical-align: top;\n",
       "    }\n",
       "\n",
       "    .dataframe thead th {\n",
       "        text-align: right;\n",
       "    }\n",
       "</style>\n",
       "<table border=\"1\" class=\"dataframe\">\n",
       "  <thead>\n",
       "    <tr style=\"text-align: right;\">\n",
       "      <th></th>\n",
       "      <th>Video</th>\n",
       "      <th>Video title</th>\n",
       "      <th>Video pub­lish time</th>\n",
       "      <th>Com­ments ad­ded</th>\n",
       "      <th>Shares</th>\n",
       "      <th>Dis­likes</th>\n",
       "      <th>Likes</th>\n",
       "      <th>Sub­scribers lost</th>\n",
       "      <th>Sub­scribers gained</th>\n",
       "      <th>RPM (USD)</th>\n",
       "      <th>CPM (USD)</th>\n",
       "      <th>Av­er­age per­cent­age viewed (%)</th>\n",
       "      <th>Av­er­age view dur­a­tion</th>\n",
       "      <th>Views</th>\n",
       "      <th>Watch time (hours)</th>\n",
       "      <th>Sub­scribers</th>\n",
       "      <th>Your es­tim­ated rev­en­ue (USD)</th>\n",
       "      <th>Im­pres­sions</th>\n",
       "      <th>Im­pres­sions click-through rate (%)</th>\n",
       "    </tr>\n",
       "  </thead>\n",
       "  <tbody>\n",
       "    <tr>\n",
       "      <th>0</th>\n",
       "      <td>Total</td>\n",
       "      <td>NaN</td>\n",
       "      <td>NaN</td>\n",
       "      <td>14197</td>\n",
       "      <td>39640</td>\n",
       "      <td>3902</td>\n",
       "      <td>225021</td>\n",
       "      <td>45790</td>\n",
       "      <td>229241</td>\n",
       "      <td>5.276</td>\n",
       "      <td>11.990</td>\n",
       "      <td>26.61</td>\n",
       "      <td>0:03:25</td>\n",
       "      <td>5568487</td>\n",
       "      <td>317602.3536</td>\n",
       "      <td>183451</td>\n",
       "      <td>29068.652</td>\n",
       "      <td>100954064</td>\n",
       "      <td>3.16</td>\n",
       "    </tr>\n",
       "    <tr>\n",
       "      <th>1</th>\n",
       "      <td>4OZip0cgOho</td>\n",
       "      <td>How I Would Learn Data Science (If I Had to St...</td>\n",
       "      <td>May 8, 2020</td>\n",
       "      <td>907</td>\n",
       "      <td>9583</td>\n",
       "      <td>942</td>\n",
       "      <td>46903</td>\n",
       "      <td>451</td>\n",
       "      <td>46904</td>\n",
       "      <td>6.353</td>\n",
       "      <td>12.835</td>\n",
       "      <td>36.65</td>\n",
       "      <td>0:03:09</td>\n",
       "      <td>1253559</td>\n",
       "      <td>65850.7042</td>\n",
       "      <td>46453</td>\n",
       "      <td>7959.533</td>\n",
       "      <td>26498799</td>\n",
       "      <td>3.14</td>\n",
       "    </tr>\n",
       "    <tr>\n",
       "      <th>2</th>\n",
       "      <td>78LjdAAw0wA</td>\n",
       "      <td>100K Channel Update + AMA Stream!</td>\n",
       "      <td>Nov 12, 2020</td>\n",
       "      <td>412</td>\n",
       "      <td>4</td>\n",
       "      <td>4</td>\n",
       "      <td>130</td>\n",
       "      <td>15</td>\n",
       "      <td>12</td>\n",
       "      <td>2.668</td>\n",
       "      <td>6.259</td>\n",
       "      <td>6.26</td>\n",
       "      <td>0:05:14</td>\n",
       "      <td>2291</td>\n",
       "      <td>200.2966</td>\n",
       "      <td>-3</td>\n",
       "      <td>6.113</td>\n",
       "      <td>188318</td>\n",
       "      <td>0.72</td>\n",
       "    </tr>\n",
       "    <tr>\n",
       "      <th>3</th>\n",
       "      <td>hO_YKK_0Qck</td>\n",
       "      <td>Uber Driver to Machine Learning Engineer in 9 ...</td>\n",
       "      <td>Jul 16, 2020</td>\n",
       "      <td>402</td>\n",
       "      <td>152</td>\n",
       "      <td>15</td>\n",
       "      <td>881</td>\n",
       "      <td>9</td>\n",
       "      <td>198</td>\n",
       "      <td>9.516</td>\n",
       "      <td>11.695</td>\n",
       "      <td>15.12</td>\n",
       "      <td>0:10:21</td>\n",
       "      <td>21350</td>\n",
       "      <td>3687.3387</td>\n",
       "      <td>189</td>\n",
       "      <td>202.963</td>\n",
       "      <td>442334</td>\n",
       "      <td>2.53</td>\n",
       "    </tr>\n",
       "    <tr>\n",
       "      <th>4</th>\n",
       "      <td>uXLnbdHMf8w</td>\n",
       "      <td>Why I'm Starting Data Science Over Again.</td>\n",
       "      <td>Aug 29, 2020</td>\n",
       "      <td>375</td>\n",
       "      <td>367</td>\n",
       "      <td>22</td>\n",
       "      <td>2622</td>\n",
       "      <td>40</td>\n",
       "      <td>1957</td>\n",
       "      <td>3.143</td>\n",
       "      <td>7.943</td>\n",
       "      <td>33.41</td>\n",
       "      <td>0:02:36</td>\n",
       "      <td>49564</td>\n",
       "      <td>2148.3110</td>\n",
       "      <td>1917</td>\n",
       "      <td>155.779</td>\n",
       "      <td>521185</td>\n",
       "      <td>4.01</td>\n",
       "    </tr>\n",
       "  </tbody>\n",
       "</table>\n",
       "</div>"
      ],
      "text/plain": [
       "         Video                                        Video title  \\\n",
       "0        Total                                                NaN   \n",
       "1  4OZip0cgOho  How I Would Learn Data Science (If I Had to St...   \n",
       "2  78LjdAAw0wA                  100K Channel Update + AMA Stream!   \n",
       "3  hO_YKK_0Qck  Uber Driver to Machine Learning Engineer in 9 ...   \n",
       "4  uXLnbdHMf8w          Why I'm Starting Data Science Over Again.   \n",
       "\n",
       "  Video pub­lish time  Com­ments ad­ded  Shares  Dis­likes   Likes  \\\n",
       "0                 NaN             14197   39640       3902  225021   \n",
       "1         May 8, 2020               907    9583        942   46903   \n",
       "2        Nov 12, 2020               412       4          4     130   \n",
       "3        Jul 16, 2020               402     152         15     881   \n",
       "4        Aug 29, 2020               375     367         22    2622   \n",
       "\n",
       "   Sub­scribers lost  Sub­scribers gained  RPM (USD)  CPM (USD)  \\\n",
       "0              45790               229241      5.276     11.990   \n",
       "1                451                46904      6.353     12.835   \n",
       "2                 15                   12      2.668      6.259   \n",
       "3                  9                  198      9.516     11.695   \n",
       "4                 40                 1957      3.143      7.943   \n",
       "\n",
       "   Av­er­age per­cent­age viewed (%) Av­er­age view dur­a­tion    Views  \\\n",
       "0                              26.61                   0:03:25  5568487   \n",
       "1                              36.65                   0:03:09  1253559   \n",
       "2                               6.26                   0:05:14     2291   \n",
       "3                              15.12                   0:10:21    21350   \n",
       "4                              33.41                   0:02:36    49564   \n",
       "\n",
       "   Watch time (hours)  Sub­scribers  Your es­tim­ated rev­en­ue (USD)  \\\n",
       "0         317602.3536        183451                         29068.652   \n",
       "1          65850.7042         46453                          7959.533   \n",
       "2            200.2966            -3                             6.113   \n",
       "3           3687.3387           189                           202.963   \n",
       "4           2148.3110          1917                           155.779   \n",
       "\n",
       "   Im­pres­sions  Im­pres­sions click-through rate (%)  \n",
       "0      100954064                                  3.16  \n",
       "1       26498799                                  3.14  \n",
       "2         188318                                  0.72  \n",
       "3         442334                                  2.53  \n",
       "4         521185                                  4.01  "
      ]
     },
     "execution_count": 97,
     "metadata": {},
     "output_type": "execute_result"
    }
   ],
   "source": [
    "Video_df.head()"
   ]
  },
  {
   "cell_type": "markdown",
   "metadata": {},
   "source": [
    "From looking at these features, there are good amount that will need to be removed prior to model building. For example, features having to do with revenue will not be included due to not having this knowledge prior to making a video. We are interested in either predicting the likes a video will receive or views, and revenue columns would have a high correlation with those metrics. However, we can analyze which videos bring in the highest monetary value to learn more about our data."
   ]
  },
  {
   "cell_type": "code",
   "execution_count": 98,
   "metadata": {},
   "outputs": [
    {
     "data": {
      "text/plain": [
       "Video                                    object\n",
       "Video title                              object\n",
       "Video pub­lish time                      object\n",
       "Com­ments ad­ded                          int64\n",
       "Shares                                    int64\n",
       "Dis­likes                                 int64\n",
       "Likes                                     int64\n",
       "Sub­scribers lost                         int64\n",
       "Sub­scribers gained                       int64\n",
       "RPM (USD)                               float64\n",
       "CPM (USD)                               float64\n",
       "Av­er­age per­cent­age viewed (%)       float64\n",
       "Av­er­age view dur­a­tion                object\n",
       "Views                                     int64\n",
       "Watch time (hours)                      float64\n",
       "Sub­scribers                              int64\n",
       "Your es­tim­ated rev­en­ue (USD)        float64\n",
       "Im­pres­sions                             int64\n",
       "Im­pres­sions click-through rate (%)    float64\n",
       "dtype: object"
      ]
     },
     "execution_count": 98,
     "metadata": {},
     "output_type": "execute_result"
    }
   ],
   "source": [
    "Video_df.dtypes"
   ]
  },
  {
   "cell_type": "markdown",
   "metadata": {},
   "source": [
    "Other than our unique video ID, video title, and video publish date, the rest of the features are either type int or float. Average view duration is in minute format, so this should be changed to seconds in the future to stay consistent with our last data frame we explored."
   ]
  },
  {
   "cell_type": "code",
   "execution_count": 99,
   "metadata": {},
   "outputs": [
    {
     "data": {
      "text/plain": [
       "<function matplotlib.pyplot.show(*args, **kw)>"
      ]
     },
     "execution_count": 99,
     "metadata": {},
     "output_type": "execute_result"
    },
    {
     "data": {
      "image/png": "[encoded data removed]",
      "text/plain": [
       "<Figure size 432x288 with 1 Axes>"
      ]
     },
     "metadata": {
      "needs_background": "light"
     },
     "output_type": "display_data"
    }
   ],
   "source": [
    "# Finding Videos with highest revenue\n",
    "grouped_video = Video_df.groupby(by = 'Video title', as_index = False).sum()\n",
    "grouped_video_sort = grouped_video.sort_values(by = str(Video_df.columns[16]), ascending = False)\n",
    "xAxis = grouped_video_sort.loc[:,'Video title'][:9]\n",
    "yAxis = grouped_video_sort.loc[:,str(Video_df.columns[16])][:9]\n",
    "plt.barh(xAxis, yAxis)\n",
    "plt.title(\"Top 10 Videos by Revenue\")\n",
    "plt.xlabel('Revenue (USD)')\n",
    "plt.ylabel('Video Title')\n",
    "plt.show"
   ]
  },
  {
   "cell_type": "code",
   "execution_count": 100,
   "metadata": {},
   "outputs": [
    {
     "data": {
      "text/plain": [
       "'Dis\\xadlikes'"
      ]
     },
     "execution_count": 100,
     "metadata": {},
     "output_type": "execute_result"
    }
   ],
   "source": [
    "grouped_video.columns[3]"
   ]
  },
  {
   "cell_type": "markdown",
   "metadata": {},
   "source": [
    "We can see that one video, 'How I Would Learn Data Science...'  outperformed the rest by a large margin. All the top performing videos contain 'Data Science' in the title. Instead of having individual columns for 'Data,' 'Science,' and 'Project,' we can have a boolean column that asks if 'Data Science' appears in the title."
   ]
  },
  {
   "cell_type": "code",
   "execution_count": 101,
   "metadata": {},
   "outputs": [
    {
     "name": "stderr",
     "output_type": "stream",
     "text": [
      "/opt/conda/lib/python3.7/site-packages/ipykernel_launcher.py:4: SettingWithCopyWarning: \n",
      "A value is trying to be set on a copy of a slice from a DataFrame.\n",
      "Try using .loc[row_indexer,col_indexer] = value instead\n",
      "\n",
      "See the caveats in the documentation: https://pandas.pydata.org/pandas-docs/stable/user_guide/indexing.html#returning-a-view-versus-a-copy\n",
      "  after removing the cwd from sys.path.\n"
     ]
    },
    {
     "data": {
      "text/plain": [
       "<function matplotlib.pyplot.show(*args, **kw)>"
      ]
     },
     "execution_count": 101,
     "metadata": {},
     "output_type": "execute_result"
    },
    {
     "data": {
      "image/png": "[encoded data removed]",
      "text/plain": [
       "<Figure size 432x288 with 1 Axes>"
      ]
     },
     "metadata": {
      "needs_background": "light"
     },
     "output_type": "display_data"
    }
   ],
   "source": [
    "# Finding Like to Dislike ratio and ranking vidoes\n",
    "test = grouped_video\n",
    "test = test[test[test.columns[3]] > 0]\n",
    "test['like_dislike_ratio'] = test['Likes'] / test[test.columns[3]]\n",
    "test_sort = test.sort_values(by = 'like_dislike_ratio', ascending = False)\n",
    "xAxis = test_sort.loc[:,'Video title'][:9]\n",
    "yAxis = test_sort.loc[:,'like_dislike_ratio'][:9]\n",
    "plt.barh(xAxis, yAxis)\n",
    "plt.title(\"Top 10 Videos by Like to Dislike Ratio\")\n",
    "plt.xlabel('Like to Dislike Ratio')\n",
    "plt.ylabel('Video Title')\n",
    "plt.show"
   ]
  },
  {
   "cell_type": "markdown",
   "metadata": {},
   "source": [
    "This chart shows which of his videos received the most positive reviews. This information is beneficial to all video creators looking to replicate their past success."
   ]
  },
  {
   "cell_type": "markdown",
   "metadata": {},
   "source": [
    "#### Comments_df"
   ]
  },
  {
   "cell_type": "code",
   "execution_count": 102,
   "metadata": {},
   "outputs": [
    {
     "data": {
      "text/html": [
       "<div>\n",
       "<style scoped>\n",
       "    .dataframe tbody tr th:only-of-type {\n",
       "        vertical-align: middle;\n",
       "    }\n",
       "\n",
       "    .dataframe tbody tr th {\n",
       "        vertical-align: top;\n",
       "    }\n",
       "\n",
       "    .dataframe thead th {\n",
       "        text-align: right;\n",
       "    }\n",
       "</style>\n",
       "<table border=\"1\" class=\"dataframe\">\n",
       "  <thead>\n",
       "    <tr style=\"text-align: right;\">\n",
       "      <th></th>\n",
       "      <th>Comments</th>\n",
       "      <th>Comment_ID</th>\n",
       "      <th>Reply_Count</th>\n",
       "      <th>Like_Count</th>\n",
       "      <th>Date</th>\n",
       "      <th>VidId</th>\n",
       "      <th>user_ID</th>\n",
       "    </tr>\n",
       "  </thead>\n",
       "  <tbody>\n",
       "    <tr>\n",
       "      <th>0</th>\n",
       "      <td>Thanks for this video Ken.\\n\\nI decided to go ...</td>\n",
       "      <td>UgxFZTIzC4UPyhhX_PZ4AaABAg</td>\n",
       "      <td>0</td>\n",
       "      <td>0</td>\n",
       "      <td>2022-01-22T08:13:29Z</td>\n",
       "      <td>xpIFS6jZbe8</td>\n",
       "      <td>user_981</td>\n",
       "    </tr>\n",
       "    <tr>\n",
       "      <th>1</th>\n",
       "      <td>Hello ken jee!!! I'm doing a graduation on Com...</td>\n",
       "      <td>Ugx3IYuAufhb932GYQx4AaABAg</td>\n",
       "      <td>0</td>\n",
       "      <td>0</td>\n",
       "      <td>2022-01-22T01:09:46Z</td>\n",
       "      <td>xpIFS6jZbe8</td>\n",
       "      <td>user_213</td>\n",
       "    </tr>\n",
       "    <tr>\n",
       "      <th>2</th>\n",
       "      <td>Thanks for this video, man. So useful. I'll me...</td>\n",
       "      <td>UgyhwwoK24arzRt1mud4AaABAg</td>\n",
       "      <td>0</td>\n",
       "      <td>0</td>\n",
       "      <td>2022-01-21T23:59:05Z</td>\n",
       "      <td>rEWPqw6rMGI</td>\n",
       "      <td>user_1065</td>\n",
       "    </tr>\n",
       "    <tr>\n",
       "      <th>3</th>\n",
       "      <td>Great video!!! I started learning Python 8 mon...</td>\n",
       "      <td>UgwrrI7nd3WClsotmHV4AaABAg</td>\n",
       "      <td>0</td>\n",
       "      <td>0</td>\n",
       "      <td>2022-01-21T23:00:37Z</td>\n",
       "      <td>xpIFS6jZbe8</td>\n",
       "      <td>user_3391</td>\n",
       "    </tr>\n",
       "    <tr>\n",
       "      <th>4</th>\n",
       "      <td>Been watching hours of your material (and Tina...</td>\n",
       "      <td>UgxlOrHO4MHKSwY9mUN4AaABAg</td>\n",
       "      <td>0</td>\n",
       "      <td>0</td>\n",
       "      <td>2022-01-21T20:24:20Z</td>\n",
       "      <td>sHRq-LshG3U</td>\n",
       "      <td>user_2816</td>\n",
       "    </tr>\n",
       "  </tbody>\n",
       "</table>\n",
       "</div>"
      ],
      "text/plain": [
       "                                            Comments  \\\n",
       "0  Thanks for this video Ken.\\n\\nI decided to go ...   \n",
       "1  Hello ken jee!!! I'm doing a graduation on Com...   \n",
       "2  Thanks for this video, man. So useful. I'll me...   \n",
       "3  Great video!!! I started learning Python 8 mon...   \n",
       "4  Been watching hours of your material (and Tina...   \n",
       "\n",
       "                   Comment_ID  Reply_Count  Like_Count                  Date  \\\n",
       "0  UgxFZTIzC4UPyhhX_PZ4AaABAg            0           0  2022-01-22T08:13:29Z   \n",
       "1  Ugx3IYuAufhb932GYQx4AaABAg            0           0  2022-01-22T01:09:46Z   \n",
       "2  UgyhwwoK24arzRt1mud4AaABAg            0           0  2022-01-21T23:59:05Z   \n",
       "3  UgwrrI7nd3WClsotmHV4AaABAg            0           0  2022-01-21T23:00:37Z   \n",
       "4  UgxlOrHO4MHKSwY9mUN4AaABAg            0           0  2022-01-21T20:24:20Z   \n",
       "\n",
       "         VidId    user_ID  \n",
       "0  xpIFS6jZbe8   user_981  \n",
       "1  xpIFS6jZbe8   user_213  \n",
       "2  rEWPqw6rMGI  user_1065  \n",
       "3  xpIFS6jZbe8  user_3391  \n",
       "4  sHRq-LshG3U  user_2816  "
      ]
     },
     "execution_count": 102,
     "metadata": {},
     "output_type": "execute_result"
    }
   ],
   "source": [
    "Comments_df.head()"
   ]
  },
  {
   "cell_type": "markdown",
   "metadata": {},
   "source": [
    "This data frame has the least number of columns we have encountered so far. From this data, we can try and examine key phrases in users’ comments and see how many likes they received. Sadly, we do not have information on if a user who left a comment also left a like or dislike, so there would not be a way to try and detect a positive or negative review by a comment alone."
   ]
  },
  {
   "cell_type": "code",
   "execution_count": 103,
   "metadata": {},
   "outputs": [
    {
     "data": {
      "text/plain": [
       "Comments       object\n",
       "Comment_ID     object\n",
       "Reply_Count     int64\n",
       "Like_Count      int64\n",
       "Date           object\n",
       "VidId          object\n",
       "user_ID        object\n",
       "dtype: object"
      ]
     },
     "execution_count": 103,
     "metadata": {},
     "output_type": "execute_result"
    }
   ],
   "source": [
    "Comments_df.dtypes"
   ]
  },
  {
   "cell_type": "markdown",
   "metadata": {},
   "source": [
    "This data frame is string heavy, so we might want to make a column indicating which videos get the highest count of comments (most interaction)."
   ]
  },
  {
   "cell_type": "code",
   "execution_count": 104,
   "metadata": {},
   "outputs": [
    {
     "data": {
      "text/plain": [
       "<function matplotlib.pyplot.show(*args, **kw)>"
      ]
     },
     "execution_count": 104,
     "metadata": {},
     "output_type": "execute_result"
    },
    {
     "data": {
      "image/png": "[encoded data removed]",
      "text/plain": [
       "<Figure size 432x288 with 1 Axes>"
      ]
     },
     "metadata": {
      "needs_background": "light"
     },
     "output_type": "display_data"
    }
   ],
   "source": [
    "# Finding Comments with the most likes\n",
    "grouped_comments = Comments_df.groupby(by = 'VidId', as_index = False).count()\n",
    "grouped_comments_sort = grouped_comments.sort_values(by = 'Comments', ascending = False)\n",
    "xAxis = grouped_comments_sort.loc[:,'Comments'][:9]\n",
    "yAxis = grouped_comments_sort.loc[:,'VidId'][:9]\n",
    "plt.barh(yAxis, xAxis)\n",
    "plt.title(\"Top 10 Videos by Comment Count\")\n",
    "plt.xlabel('# of Comments')\n",
    "plt.ylabel('Video ID')\n",
    "plt.show"
   ]
  },
  {
   "cell_type": "markdown",
   "metadata": {},
   "source": [
    "For this data to be clearer, we would need to find the video titles associated with those IDs. For now, it is a good starting point to see how many comments some of his videos received. As mentioned, we will make a new column in our future joined data frame which shows how many columns a video received."
   ]
  },
  {
   "cell_type": "markdown",
   "metadata": {},
   "source": [
    "#### Performance_df"
   ]
  },
  {
   "cell_type": "code",
   "execution_count": 105,
   "metadata": {},
   "outputs": [
    {
     "data": {
      "text/html": [
       "<div>\n",
       "<style scoped>\n",
       "    .dataframe tbody tr th:only-of-type {\n",
       "        vertical-align: middle;\n",
       "    }\n",
       "\n",
       "    .dataframe tbody tr th {\n",
       "        vertical-align: top;\n",
       "    }\n",
       "\n",
       "    .dataframe thead th {\n",
       "        text-align: right;\n",
       "    }\n",
       "</style>\n",
       "<table border=\"1\" class=\"dataframe\">\n",
       "  <thead>\n",
       "    <tr style=\"text-align: right;\">\n",
       "      <th></th>\n",
       "      <th>Date</th>\n",
       "      <th>Video Title</th>\n",
       "      <th>External Video ID</th>\n",
       "      <th>Video Length</th>\n",
       "      <th>Thumbnail link</th>\n",
       "      <th>Views</th>\n",
       "      <th>Video Likes Added</th>\n",
       "      <th>Video Dislikes Added</th>\n",
       "      <th>Video Likes Removed</th>\n",
       "      <th>User Subscriptions Added</th>\n",
       "      <th>User Subscriptions Removed</th>\n",
       "      <th>Average View Percentage</th>\n",
       "      <th>Average Watch Time</th>\n",
       "      <th>User Comments Added</th>\n",
       "    </tr>\n",
       "  </thead>\n",
       "  <tbody>\n",
       "    <tr>\n",
       "      <th>0</th>\n",
       "      <td>19 Jan 2022</td>\n",
       "      <td>Kaggle Project From Scratch - Part 2 (Explorat...</td>\n",
       "      <td>KQ80oD_boBM</td>\n",
       "      <td>2191</td>\n",
       "      <td>https://i.ytimg.com/vi/KQ80oD_boBM/hqdefault.jpg</td>\n",
       "      <td>13</td>\n",
       "      <td>0</td>\n",
       "      <td>0</td>\n",
       "      <td>0</td>\n",
       "      <td>0</td>\n",
       "      <td>0</td>\n",
       "      <td>0.069055</td>\n",
       "      <td>151.300154</td>\n",
       "      <td>0</td>\n",
       "    </tr>\n",
       "    <tr>\n",
       "      <th>1</th>\n",
       "      <td>19 Jan 2022</td>\n",
       "      <td>Welcome To My Channel | Ken Jee | Data Science</td>\n",
       "      <td>smeFkHwnM_k</td>\n",
       "      <td>51</td>\n",
       "      <td>https://i.ytimg.com/vi/smeFkHwnM_k/hqdefault.jpg</td>\n",
       "      <td>2</td>\n",
       "      <td>0</td>\n",
       "      <td>0</td>\n",
       "      <td>0</td>\n",
       "      <td>1</td>\n",
       "      <td>0</td>\n",
       "      <td>0.471255</td>\n",
       "      <td>24.034000</td>\n",
       "      <td>0</td>\n",
       "    </tr>\n",
       "    <tr>\n",
       "      <th>2</th>\n",
       "      <td>19 Jan 2022</td>\n",
       "      <td>How She Dominated the FAANG Data Science Inter...</td>\n",
       "      <td>vfV4nm004VQ</td>\n",
       "      <td>2686</td>\n",
       "      <td>https://i.ytimg.com/vi/vfV4nm004VQ/hqdefault.jpg</td>\n",
       "      <td>10</td>\n",
       "      <td>0</td>\n",
       "      <td>0</td>\n",
       "      <td>0</td>\n",
       "      <td>0</td>\n",
       "      <td>0</td>\n",
       "      <td>0.126049</td>\n",
       "      <td>338.567500</td>\n",
       "      <td>0</td>\n",
       "    </tr>\n",
       "    <tr>\n",
       "      <th>3</th>\n",
       "      <td>19 Jan 2022</td>\n",
       "      <td>The 9 Books That Changed My Perspective in 2019</td>\n",
       "      <td>3TrAYmrmA8o</td>\n",
       "      <td>980</td>\n",
       "      <td>https://i.ytimg.com/vi/3TrAYmrmA8o/hqdefault.jpg</td>\n",
       "      <td>1</td>\n",
       "      <td>0</td>\n",
       "      <td>0</td>\n",
       "      <td>0</td>\n",
       "      <td>0</td>\n",
       "      <td>0</td>\n",
       "      <td>0.011508</td>\n",
       "      <td>11.278000</td>\n",
       "      <td>0</td>\n",
       "    </tr>\n",
       "    <tr>\n",
       "      <th>4</th>\n",
       "      <td>19 Jan 2022</td>\n",
       "      <td>Interview with the Director of AI Research @ N...</td>\n",
       "      <td>Xgg7dIKys9E</td>\n",
       "      <td>2904</td>\n",
       "      <td>https://i.ytimg.com/vi/Xgg7dIKys9E/hqdefault.jpg</td>\n",
       "      <td>1</td>\n",
       "      <td>0</td>\n",
       "      <td>0</td>\n",
       "      <td>0</td>\n",
       "      <td>0</td>\n",
       "      <td>0</td>\n",
       "      <td>0.007541</td>\n",
       "      <td>21.900000</td>\n",
       "      <td>0</td>\n",
       "    </tr>\n",
       "  </tbody>\n",
       "</table>\n",
       "</div>"
      ],
      "text/plain": [
       "          Date                                        Video Title  \\\n",
       "0  19 Jan 2022  Kaggle Project From Scratch - Part 2 (Explorat...   \n",
       "1  19 Jan 2022     Welcome To My Channel | Ken Jee | Data Science   \n",
       "2  19 Jan 2022  How She Dominated the FAANG Data Science Inter...   \n",
       "3  19 Jan 2022    The 9 Books That Changed My Perspective in 2019   \n",
       "4  19 Jan 2022  Interview with the Director of AI Research @ N...   \n",
       "\n",
       "  External Video ID  Video Length  \\\n",
       "0       KQ80oD_boBM          2191   \n",
       "1       smeFkHwnM_k            51   \n",
       "2       vfV4nm004VQ          2686   \n",
       "3       3TrAYmrmA8o           980   \n",
       "4       Xgg7dIKys9E          2904   \n",
       "\n",
       "                                     Thumbnail link  Views  Video Likes Added  \\\n",
       "0  https://i.ytimg.com/vi/KQ80oD_boBM/hqdefault.jpg     13                  0   \n",
       "1  https://i.ytimg.com/vi/smeFkHwnM_k/hqdefault.jpg      2                  0   \n",
       "2  https://i.ytimg.com/vi/vfV4nm004VQ/hqdefault.jpg     10                  0   \n",
       "3  https://i.ytimg.com/vi/3TrAYmrmA8o/hqdefault.jpg      1                  0   \n",
       "4  https://i.ytimg.com/vi/Xgg7dIKys9E/hqdefault.jpg      1                  0   \n",
       "\n",
       "   Video Dislikes Added  Video Likes Removed  User Subscriptions Added  \\\n",
       "0                     0                    0                         0   \n",
       "1                     0                    0                         1   \n",
       "2                     0                    0                         0   \n",
       "3                     0                    0                         0   \n",
       "4                     0                    0                         0   \n",
       "\n",
       "   User Subscriptions Removed  Average View Percentage  Average Watch Time  \\\n",
       "0                           0                 0.069055          151.300154   \n",
       "1                           0                 0.471255           24.034000   \n",
       "2                           0                 0.126049          338.567500   \n",
       "3                           0                 0.011508           11.278000   \n",
       "4                           0                 0.007541           21.900000   \n",
       "\n",
       "   User Comments Added  \n",
       "0                    0  \n",
       "1                    0  \n",
       "2                    0  \n",
       "3                    0  \n",
       "4                    0  "
      ]
     },
     "execution_count": 105,
     "metadata": {},
     "output_type": "execute_result"
    }
   ],
   "source": [
    "Performance_df.head()"
   ]
  },
  {
   "cell_type": "markdown",
   "metadata": {},
   "source": [
    "This data frame goes off daily performance of videos. This data set is ideal for time series analysis to see how number of views or subscriber count grows by the day."
   ]
  },
  {
   "cell_type": "code",
   "execution_count": 106,
   "metadata": {},
   "outputs": [
    {
     "data": {
      "text/plain": [
       "Date                           object\n",
       "Video Title                    object\n",
       "External Video ID              object\n",
       "Video Length                    int64\n",
       "Thumbnail link                 object\n",
       "Views                           int64\n",
       "Video Likes Added               int64\n",
       "Video Dislikes Added            int64\n",
       "Video Likes Removed             int64\n",
       "User Subscriptions Added        int64\n",
       "User Subscriptions Removed      int64\n",
       "Average View Percentage       float64\n",
       "Average Watch Time            float64\n",
       "User Comments Added             int64\n",
       "dtype: object"
      ]
     },
     "execution_count": 106,
     "metadata": {},
     "output_type": "execute_result"
    }
   ],
   "source": [
    "Performance_df.dtypes"
   ]
  },
  {
   "cell_type": "code",
   "execution_count": 107,
   "metadata": {},
   "outputs": [
    {
     "data": {
      "image/png": "[encoded data removed]",
      "text/plain": [
       "<Figure size 432x288 with 1 Axes>"
      ]
     },
     "metadata": {
      "needs_background": "light"
     },
     "output_type": "display_data"
    }
   ],
   "source": [
    "# Finding views gained over time\n",
    "test = Performance_df\n",
    "test['Date'] = pd.to_datetime(test['Date'])\n",
    "test_sort = test.sort_values(by = 'Date', ascending = True)\n",
    "xAxis = test_sort['Date']\n",
    "yAxis = test_sort['Views'].cumsum()\n",
    "ax = plt.gca()\n",
    "ax.xaxis.set_major_locator(matplotlib.dates.YearLocator())\n",
    "ax.xaxis.set_major_formatter(matplotlib.dates.DateFormatter('%Y'))\n",
    "plt.plot(xAxis, yAxis)\n",
    "plt.title('Cumulative Views over Time')\n",
    "plt.xlabel('Date')\n",
    "plt.ylabel('Total Views')\n",
    "plt.show()"
   ]
  },
  {
   "cell_type": "markdown",
   "metadata": {},
   "source": [
    "This chart really shows how much this YouTubers channel blew up in 2020. This is an important factor in seeing what changed this year compared to previous years. The pandemic could have had an influence in his growth."
   ]
  },
  {
   "cell_type": "code",
   "execution_count": 108,
   "metadata": {},
   "outputs": [
    {
     "data": {
      "image/png": "[encoded data removed]",
      "text/plain": [
       "<Figure size 432x288 with 1 Axes>"
      ]
     },
     "metadata": {
      "needs_background": "light"
     },
     "output_type": "display_data"
    }
   ],
   "source": [
    "# Finding Subscriber Growth over time\n",
    "lost = test_sort['User Subscriptions Removed'].cumsum()\n",
    "gained = test_sort['User Subscriptions Added'].cumsum()\n",
    "yAxis = gained - lost\n",
    "ax = plt.gca()\n",
    "ax.xaxis.set_major_locator(matplotlib.dates.YearLocator())\n",
    "ax.xaxis.set_major_formatter(matplotlib.dates.DateFormatter('%Y'))\n",
    "plt.plot(xAxis, yAxis)\n",
    "plt.title('Cumulative Subscribers over Time')\n",
    "plt.xlabel('Date')\n",
    "plt.ylabel('Subscribers Gained')\n",
    "plt.show()"
   ]
  },
  {
   "cell_type": "markdown",
   "metadata": {},
   "source": [
    "This chart has a similar shape to the one we see above, which is logical. There will be more important data to be seen with dates after 2020, so it might be a good idea to filter out videos that were made prior. This way, we can reduce the noise in our future data set."
   ]
  }
 ],
 "metadata": {
  "instance_type": "ml.t3.medium",
  "kernelspec": {
   "display_name": "Python 3 (Data Science)",
   "language": "python",
   "name": "python3__SAGEMAKER_INTERNAL__arn:aws:sagemaker:us-east-1:081325390199:image/datascience-1.0"
  },
  "language_info": {
   "codemirror_mode": {
    "name": "ipython",
    "version": 3
   },
   "file_extension": ".py",
   "mimetype": "text/x-python",
   "name": "python",
   "nbconvert_exporter": "python",
   "pygments_lexer": "ipython3",
   "version": "3.7.10"
  }
 },
 "nbformat": 4,
 "nbformat_minor": 4
}
