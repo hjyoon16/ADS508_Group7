{
 "cells": [
  {
   "cell_type": "markdown",
   "metadata": {},
   "source": [
    "# Assignment 3.1"
   ]
  },
  {
   "cell_type": "markdown",
   "metadata": {},
   "source": [
    "## Reading S3 bucket into SageMaker Studio"
   ]
  },
  {
   "cell_type": "code",
   "execution_count": 2,
   "metadata": {},
   "outputs": [],
   "source": [
    "import boto3\n",
    "import pandas as pd\n",
    "import matplotlib.pyplot as plt\n",
    "import numpy as np\n",
    "from collections import Counter\n",
    "\n",
    "s3_client = boto3.client(\"s3\")\n",
    "\n",
    "BUCKET='ads508projectbucket'\n",
    "\n",
    "# For Country_and_Subscriber_df\n",
    "Country_and_Subscriber_Key='Aggregated_Metrics_By_Country_And_Subscriber_Status.csv'\n",
    "Country_and_Subscriber_response = s3_client.get_object(Bucket=BUCKET, Key=Country_and_Subscriber_Key)\n",
    "Country_and_Subscriber_df = pd.read_csv(Country_and_Subscriber_response.get(\"Body\"))\n",
    "\n",
    "# For Video_df\n",
    "Video_Key='Aggregated_Metrics_By_Video.csv'\n",
    "Video_response = s3_client.get_object(Bucket=BUCKET, Key=Video_Key)\n",
    "Video_df = pd.read_csv(Video_response.get(\"Body\"))\n",
    "\n",
    "# For Comments_df\n",
    "Comments_Key='All_Comments_Final.csv'\n",
    "Comments_response = s3_client.get_object(Bucket=BUCKET, Key=Comments_Key)\n",
    "Comments_df = pd.read_csv(Comments_response.get(\"Body\"))\n",
    "\n",
    "# For Performance_df\n",
    "Performance_Key='Video_Performance_Over_Time.csv'\n",
    "Performance_response = s3_client.get_object(Bucket=BUCKET, Key=Performance_Key)\n",
    "Performance_df = pd.read_csv(Performance_response.get(\"Body\"))"
   ]
  },
  {
   "cell_type": "markdown",
   "metadata": {},
   "source": [
    "## Exploring Data"
   ]
  },
  {
   "cell_type": "markdown",
   "metadata": {},
   "source": [
    "#### Country_and_Subscriber_df"
   ]
  },
  {
   "cell_type": "code",
   "execution_count": 3,
   "metadata": {},
   "outputs": [
    {
     "data": {
      "text/html": [
       "<div>\n",
       "<style scoped>\n",
       "    .dataframe tbody tr th:only-of-type {\n",
       "        vertical-align: middle;\n",
       "    }\n",
       "\n",
       "    .dataframe tbody tr th {\n",
       "        vertical-align: top;\n",
       "    }\n",
       "\n",
       "    .dataframe thead th {\n",
       "        text-align: right;\n",
       "    }\n",
       "</style>\n",
       "<table border=\"1\" class=\"dataframe\">\n",
       "  <thead>\n",
       "    <tr style=\"text-align: right;\">\n",
       "      <th></th>\n",
       "      <th>Video Title</th>\n",
       "      <th>External Video ID</th>\n",
       "      <th>Video Length</th>\n",
       "      <th>Thumbnail link</th>\n",
       "      <th>Country Code</th>\n",
       "      <th>Is Subscribed</th>\n",
       "      <th>Views</th>\n",
       "      <th>Video Likes Added</th>\n",
       "      <th>Video Dislikes Added</th>\n",
       "      <th>Video Likes Removed</th>\n",
       "      <th>User Subscriptions Added</th>\n",
       "      <th>User Subscriptions Removed</th>\n",
       "      <th>Average View Percentage</th>\n",
       "      <th>Average Watch Time</th>\n",
       "      <th>User Comments Added</th>\n",
       "    </tr>\n",
       "  </thead>\n",
       "  <tbody>\n",
       "    <tr>\n",
       "      <th>0</th>\n",
       "      <td>🌶 Hot Topics in Tech: Data Science Explained #...</td>\n",
       "      <td>OtqQYqRNDGI</td>\n",
       "      <td>59</td>\n",
       "      <td>https://i.ytimg.com/vi/OtqQYqRNDGI/hqdefault.jpg</td>\n",
       "      <td>HK</td>\n",
       "      <td>True</td>\n",
       "      <td>23</td>\n",
       "      <td>1</td>\n",
       "      <td>0</td>\n",
       "      <td>0</td>\n",
       "      <td>2</td>\n",
       "      <td>0</td>\n",
       "      <td>0.671870</td>\n",
       "      <td>39.640348</td>\n",
       "      <td>0</td>\n",
       "    </tr>\n",
       "    <tr>\n",
       "      <th>1</th>\n",
       "      <td>🌶 Hot Topics in Tech: Data Science Explained #...</td>\n",
       "      <td>OtqQYqRNDGI</td>\n",
       "      <td>59</td>\n",
       "      <td>https://i.ytimg.com/vi/OtqQYqRNDGI/hqdefault.jpg</td>\n",
       "      <td>ME</td>\n",
       "      <td>True</td>\n",
       "      <td>3</td>\n",
       "      <td>0</td>\n",
       "      <td>0</td>\n",
       "      <td>0</td>\n",
       "      <td>0</td>\n",
       "      <td>0</td>\n",
       "      <td>0.498870</td>\n",
       "      <td>29.433333</td>\n",
       "      <td>0</td>\n",
       "    </tr>\n",
       "    <tr>\n",
       "      <th>2</th>\n",
       "      <td>🌶 Hot Topics in Tech: Data Science Explained #...</td>\n",
       "      <td>OtqQYqRNDGI</td>\n",
       "      <td>59</td>\n",
       "      <td>https://i.ytimg.com/vi/OtqQYqRNDGI/hqdefault.jpg</td>\n",
       "      <td>RW</td>\n",
       "      <td>True</td>\n",
       "      <td>2</td>\n",
       "      <td>0</td>\n",
       "      <td>0</td>\n",
       "      <td>0</td>\n",
       "      <td>0</td>\n",
       "      <td>0</td>\n",
       "      <td>0.681780</td>\n",
       "      <td>40.225000</td>\n",
       "      <td>0</td>\n",
       "    </tr>\n",
       "    <tr>\n",
       "      <th>3</th>\n",
       "      <td>🌶 Hot Topics in Tech: Data Science Explained #...</td>\n",
       "      <td>OtqQYqRNDGI</td>\n",
       "      <td>59</td>\n",
       "      <td>https://i.ytimg.com/vi/OtqQYqRNDGI/hqdefault.jpg</td>\n",
       "      <td>US</td>\n",
       "      <td>True</td>\n",
       "      <td>979</td>\n",
       "      <td>81</td>\n",
       "      <td>6</td>\n",
       "      <td>8</td>\n",
       "      <td>16</td>\n",
       "      <td>4</td>\n",
       "      <td>0.694854</td>\n",
       "      <td>40.996389</td>\n",
       "      <td>0</td>\n",
       "    </tr>\n",
       "    <tr>\n",
       "      <th>4</th>\n",
       "      <td>🌶 Hot Topics in Tech: Data Science Explained #...</td>\n",
       "      <td>OtqQYqRNDGI</td>\n",
       "      <td>59</td>\n",
       "      <td>https://i.ytimg.com/vi/OtqQYqRNDGI/hqdefault.jpg</td>\n",
       "      <td>DE</td>\n",
       "      <td>False</td>\n",
       "      <td>75</td>\n",
       "      <td>3</td>\n",
       "      <td>0</td>\n",
       "      <td>1</td>\n",
       "      <td>0</td>\n",
       "      <td>0</td>\n",
       "      <td>0.661515</td>\n",
       "      <td>39.029373</td>\n",
       "      <td>0</td>\n",
       "    </tr>\n",
       "  </tbody>\n",
       "</table>\n",
       "</div>"
      ],
      "text/plain": [
       "                                         Video Title External Video ID  \\\n",
       "0  🌶 Hot Topics in Tech: Data Science Explained #...       OtqQYqRNDGI   \n",
       "1  🌶 Hot Topics in Tech: Data Science Explained #...       OtqQYqRNDGI   \n",
       "2  🌶 Hot Topics in Tech: Data Science Explained #...       OtqQYqRNDGI   \n",
       "3  🌶 Hot Topics in Tech: Data Science Explained #...       OtqQYqRNDGI   \n",
       "4  🌶 Hot Topics in Tech: Data Science Explained #...       OtqQYqRNDGI   \n",
       "\n",
       "   Video Length                                    Thumbnail link  \\\n",
       "0            59  https://i.ytimg.com/vi/OtqQYqRNDGI/hqdefault.jpg   \n",
       "1            59  https://i.ytimg.com/vi/OtqQYqRNDGI/hqdefault.jpg   \n",
       "2            59  https://i.ytimg.com/vi/OtqQYqRNDGI/hqdefault.jpg   \n",
       "3            59  https://i.ytimg.com/vi/OtqQYqRNDGI/hqdefault.jpg   \n",
       "4            59  https://i.ytimg.com/vi/OtqQYqRNDGI/hqdefault.jpg   \n",
       "\n",
       "  Country Code  Is Subscribed  Views  Video Likes Added  Video Dislikes Added  \\\n",
       "0           HK           True     23                  1                     0   \n",
       "1           ME           True      3                  0                     0   \n",
       "2           RW           True      2                  0                     0   \n",
       "3           US           True    979                 81                     6   \n",
       "4           DE          False     75                  3                     0   \n",
       "\n",
       "   Video Likes Removed  User Subscriptions Added  User Subscriptions Removed  \\\n",
       "0                    0                         2                           0   \n",
       "1                    0                         0                           0   \n",
       "2                    0                         0                           0   \n",
       "3                    8                        16                           4   \n",
       "4                    1                         0                           0   \n",
       "\n",
       "   Average View Percentage  Average Watch Time  User Comments Added  \n",
       "0                 0.671870           39.640348                    0  \n",
       "1                 0.498870           29.433333                    0  \n",
       "2                 0.681780           40.225000                    0  \n",
       "3                 0.694854           40.996389                    0  \n",
       "4                 0.661515           39.029373                    0  "
      ]
     },
     "execution_count": 3,
     "metadata": {},
     "output_type": "execute_result"
    }
   ],
   "source": [
    "Country_and_Subscriber_df.head()"
   ]
  },
  {
   "cell_type": "markdown",
   "metadata": {},
   "source": [
    "Already, we can see multiple variables that can be removed prior to building a model. 'Thumbnail link' can be removed, but we might want to include 'Video Title' to see if certain key phrases can increase video views. 'External Video ID' is present in each data frame, so this will be kept to join the data frames together in the future prior to modeling. Once this is accomplished, \"External Video ID' will be removed to stop it from hindering model performance. "
   ]
  },
  {
   "cell_type": "code",
   "execution_count": 51,
   "metadata": {},
   "outputs": [
    {
     "data": {
      "text/plain": [
       "Video Title                    object\n",
       "External Video ID              object\n",
       "Video Length                    int64\n",
       "Thumbnail link                 object\n",
       "Country Code                   object\n",
       "Is Subscribed                    bool\n",
       "Views                           int64\n",
       "Video Likes Added               int64\n",
       "Video Dislikes Added            int64\n",
       "Video Likes Removed             int64\n",
       "User Subscriptions Added        int64\n",
       "User Subscriptions Removed      int64\n",
       "Average View Percentage       float64\n",
       "Average Watch Time            float64\n",
       "User Comments Added             int64\n",
       "dtype: object"
      ]
     },
     "execution_count": 51,
     "metadata": {},
     "output_type": "execute_result"
    }
   ],
   "source": [
    "Country_and_Subscriber_df.dtypes"
   ]
  },
  {
   "cell_type": "markdown",
   "metadata": {},
   "source": [
    "Here are the data types of each feature. Most of the data types are int, with only 1 boolean and 2 floats. The most important string data type in our data set will either be 'Country Code' or 'Video Title' depending on if we can extract key words from the title or not."
   ]
  },
  {
   "cell_type": "code",
   "execution_count": 32,
   "metadata": {},
   "outputs": [
    {
     "data": {
      "text/plain": [
       "<function matplotlib.pyplot.show(*args, **kw)>"
      ]
     },
     "execution_count": 32,
     "metadata": {},
     "output_type": "execute_result"
    },
    {
     "data": {
      "image/png": "[encoded data removed]",
      "text/plain": [
       "<Figure size 432x288 with 1 Axes>"
      ]
     },
     "metadata": {
      "needs_background": "light"
     },
     "output_type": "display_data"
    }
   ],
   "source": [
    "# Creating plot of views by country\n",
    "grouped_country = Country_and_Subscriber_df.groupby(by = 'Country Code', as_index = False).sum()\n",
    "grouped_country_sort = grouped_country.sort_values(by = 'Views', ascending = False)\n",
    "xAxis = grouped_country_sort.loc[:,'Country Code'][:9]\n",
    "yAxis = grouped_country_sort.loc[:,'Views'][:9]\n",
    "plt.barh(xAxis, yAxis)\n",
    "plt.title(\"Top 10 Countries by Views\")\n",
    "plt.xlabel('Views')\n",
    "plt.ylabel('Countries')\n",
    "plt.show"
   ]
  },
  {
   "cell_type": "markdown",
   "metadata": {},
   "source": [
    "From this chart, we can see most of the data will come from these top 10 countries. This can introduce bias to our data set due to views mostly coming from a few countires (out of the 234 countires that view these videos). This will be an important aspect to consider going forward due to our model most likely giving insights that will reach American and Indian audiences more so than other countires. "
   ]
  },
  {
   "cell_type": "code",
   "execution_count": 37,
   "metadata": {},
   "outputs": [
    {
     "data": {
      "text/plain": [
       "<function matplotlib.pyplot.show(*args, **kw)>"
      ]
     },
     "execution_count": 37,
     "metadata": {},
     "output_type": "execute_result"
    },
    {
     "data": {
      "image/png": "[encoded data removed]",
      "text/plain": [
       "<Figure size 432x288 with 1 Axes>"
      ]
     },
     "metadata": {
      "needs_background": "light"
     },
     "output_type": "display_data"
    }
   ],
   "source": [
    "# Creating plot of average watch time by country\n",
    "grouped_country = Country_and_Subscriber_df.groupby(by = 'Country Code', as_index = False).mean()\n",
    "grouped_country_sort = grouped_country.sort_values(by = 'Average Watch Time', ascending = False)\n",
    "xAxis = grouped_country_sort.loc[:,'Country Code'][:9]\n",
    "yAxis = grouped_country_sort.loc[:,'Average Watch Time'][:9]\n",
    "plt.barh(xAxis, yAxis)\n",
    "plt.title(\"Top 10 Countries by Average Watch Time\")\n",
    "plt.xlabel('Average Watch Time (s)')\n",
    "plt.ylabel('Countries')\n",
    "plt.show"
   ]
  },
  {
   "cell_type": "markdown",
   "metadata": {},
   "source": [
    "None of the countries with the most views appeared on this list, indicating that average watch time by country can be influenced by a smaller number of people watching. The less viewers in a country, the higher the variance."
   ]
  },
  {
   "cell_type": "code",
   "execution_count": 73,
   "metadata": {},
   "outputs": [
    {
     "name": "stdout",
     "output_type": "stream",
     "text": [
      "[('Data', 47211), ('Science', 34319), ('-', 14343), ('to', 10057), ('How', 9845), ('a', 9839), ('Your', 7708), ('I', 7393), ('Projects', 7174), ('The', 6526)]\n"
     ]
    }
   ],
   "source": [
    "# Making 'Video Title' into 1 long string to find the 10 most common words\n",
    "data_set = ' '.join(Country_and_Subscriber_df['Video Title'].tolist())\n",
    "\n",
    "# split() returns list of all the words in the string\n",
    "split_it = data_set.split()\n",
    "\n",
    "# Pass the split_it list to instance of Counter class.\n",
    "Counters_found = Counter(split_it)\n",
    "#print(Counters)\n",
    "\n",
    "# most_common() produces k frequently encountered\n",
    "# input values and their respective counts.\n",
    "most_occur = Counters_found.most_common(10)\n",
    "print(most_occur)"
   ]
  },
  {
   "cell_type": "markdown",
   "metadata": {},
   "source": [
    "The 3 most common words that are not dash or an article are 'Data,' 'Science,' and 'How.' In the future, we can create boolean features of these words to indicate if they appear in the title or not and see how well they do at helping predict views and likes."
   ]
  }
 ],
 "metadata": {
  "instance_type": "ml.t3.medium",
  "kernelspec": {
   "display_name": "Python 3 (Data Science)",
   "language": "python",
   "name": "python3__SAGEMAKER_INTERNAL__arn:aws:sagemaker:us-east-1:081325390199:image/datascience-1.0"
  },
  "language_info": {
   "codemirror_mode": {
    "name": "ipython",
    "version": 3
   },
   "file_extension": ".py",
   "mimetype": "text/x-python",
   "name": "python",
   "nbconvert_exporter": "python",
   "pygments_lexer": "ipython3",
   "version": "3.7.10"
  }
 },
 "nbformat": 4,
 "nbformat_minor": 4
}
